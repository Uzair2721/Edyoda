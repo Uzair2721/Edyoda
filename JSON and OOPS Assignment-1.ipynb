{
 "cells": [
  {
   "cell_type": "code",
   "execution_count": 5,
   "id": "ebad91bb",
   "metadata": {},
   "outputs": [],
   "source": [
    "import json\n",
    "        \n",
    "employees_data = [\n",
    "    {\n",
    "        \"Name\": \"David Johnson\",\n",
    "        \"DOB\": \"1995-02-10\",\n",
    "        \"Height\": 180,\n",
    "        \"City\": \"Chicago\",\n",
    "        \"State\": \"Illinois\"\n",
    "    },\n",
    "    {\n",
    "        \"Name\": \"John Doe\",\n",
    "        \"DOB\": \"1990-05-15\",\n",
    "        \"Height\": 175,\n",
    "        \"City\": \"New York\",\n",
    "        \"State\": \"New York\"\n",
    "    },\n",
    "    {\n",
    "        \"Name\": \"Emily Davis\",\n",
    "        \"DOB\": \"1992-12-01\",\n",
    "        \"Height\": 170,\n",
    "        \"City\": \"Houston\",\n",
    "        \"State\": \"Texas\"\n",
    "    },\n",
    "    {\n",
    "        \"Name\": \"Michael Wilson\",\n",
    "        \"DOB\": \"1985-07-08\",\n",
    "        \"Height\": 185,\n",
    "        \"City\": \"Miami\",\n",
    "        \"State\": \"Florida\"\n",
    "    },\n",
    "    {\n",
    "        \"Name\": \"Jane Smith\",\n",
    "        \"DOB\": \"1988-09-21\",\n",
    "        \"Height\": 165,\n",
    "        \"City\": \"Los Angeles\",\n",
    "        \"State\": \"California\"\n",
    "    }\n",
    "]\n",
    "\n",
    "with open('employee.json','w') as file:\n",
    "    json.dump(employees_data, file, indent=3)"
   ]
  },
  {
   "cell_type": "code",
   "execution_count": 6,
   "id": "b46a79e9",
   "metadata": {},
   "outputs": [
    {
     "name": "stdout",
     "output_type": "stream",
     "text": [
      "Name: David Johnson\n",
      "DOB: 1995-02-10\n",
      "Height: 180\n",
      "City: Chicago\n",
      "State: Illinois\n",
      "\n",
      "Name: John Doe\n",
      "DOB: 1990-05-15\n",
      "Height: 175\n",
      "City: New York\n",
      "State: New York\n",
      "\n",
      "Name: Emily Davis\n",
      "DOB: 1992-12-01\n",
      "Height: 170\n",
      "City: Houston\n",
      "State: Texas\n",
      "\n",
      "Name: Michael Wilson\n",
      "DOB: 1985-07-08\n",
      "Height: 185\n",
      "City: Miami\n",
      "State: Florida\n",
      "\n",
      "Name: Jane Smith\n",
      "DOB: 1988-09-21\n",
      "Height: 165\n",
      "City: Los Angeles\n",
      "State: California\n",
      "\n"
     ]
    }
   ],
   "source": [
    "class Employee:\n",
    "    def __init__(self, name, dob, height, city, state):\n",
    "        self.name = name\n",
    "        self.dob = dob\n",
    "        self.height = height\n",
    "        self.city = city\n",
    "        self.state = state\n",
    "        \n",
    "with open('employee.json', 'r') as file:\n",
    "    employees_data = json.load(file)\n",
    "\n",
    "employees = []\n",
    "for data in employees_data:\n",
    "    name = data['Name']\n",
    "    dob = data['DOB']\n",
    "    height = data['Height']\n",
    "    city = data['City']\n",
    "    state = data['State']\n",
    "    employee = Employee(name, dob, height, city, state)\n",
    "    employees.append(employee)\n",
    "\n",
    "for emp in employees:\n",
    "    print(\"Name:\", emp.name)\n",
    "    print(\"DOB:\", emp.dob)\n",
    "    print(\"Height:\", emp.height)\n",
    "    print(\"City:\", emp.city)\n",
    "    print(\"State:\", emp.state)\n",
    "    print()"
   ]
  },
  {
   "cell_type": "code",
   "execution_count": 11,
   "id": "ac4e0290",
   "metadata": {},
   "outputs": [],
   "source": [
    "import json\n",
    "\n",
    "Indian_states = {\n",
    "    \"Maharashtra\": \"Mumbai\",\n",
    "    \"Karnataka\": \"Bangalore\",\n",
    "    \"Tamil Nadu\": \"Chennai\",\n",
    "    \"West Bengal\": \"Kolkata\",\n",
    "    \"Kerala\": \"Thiruvananthapuram\",\n",
    "    \"Telangana\": \"Hyderabad\",\n",
    "    \"Punjab\": \"Chandigarh\"\n",
    "}\n",
    "\n",
    "with open('Indian_states.json','w') as file:\n",
    "    json.dump(Indian_states, file, indent=3)"
   ]
  },
  {
   "cell_type": "code",
   "execution_count": 12,
   "id": "63035250",
   "metadata": {},
   "outputs": [
    {
     "name": "stdout",
     "output_type": "stream",
     "text": [
      "{\n",
      "   \"Maharashtra\": \"Mumbai\",\n",
      "   \"Karnataka\": \"Bangalore\",\n",
      "   \"Tamil Nadu\": \"Chennai\",\n",
      "   \"West Bengal\": \"Kolkata\",\n",
      "   \"Kerala\": \"Thiruvananthapuram\",\n",
      "   \"Telangana\": \"Hyderabad\",\n",
      "   \"Punjab\": \"Chandigarh\"\n",
      "}\n"
     ]
    }
   ],
   "source": [
    "with open('Indian_states.json','r') as file:\n",
    "    data = file.read()\n",
    "    print(data)"
   ]
  },
  {
   "cell_type": "code",
   "execution_count": null,
   "id": "78b8de79",
   "metadata": {},
   "outputs": [],
   "source": []
  }
 ],
 "metadata": {
  "kernelspec": {
   "display_name": "Python 3 (ipykernel)",
   "language": "python",
   "name": "python3"
  },
  "language_info": {
   "codemirror_mode": {
    "name": "ipython",
    "version": 3
   },
   "file_extension": ".py",
   "mimetype": "text/x-python",
   "name": "python",
   "nbconvert_exporter": "python",
   "pygments_lexer": "ipython3",
   "version": "3.10.9"
  }
 },
 "nbformat": 4,
 "nbformat_minor": 5
}
