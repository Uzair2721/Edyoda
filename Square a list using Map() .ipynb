{
 "cells": [
  {
   "cell_type": "code",
   "execution_count": 3,
   "id": "b7ff8bc4",
   "metadata": {},
   "outputs": [
    {
     "name": "stdout",
     "output_type": "stream",
     "text": [
      "Original list: [4, 5, 2, 9]\n",
      "Square of list elements:\n",
      "[16, 25, 4, 81]\n"
     ]
    }
   ],
   "source": [
    "def square(x):\n",
    "    return x**2\n",
    "lst = [4,5,2,9]\n",
    "print(\"Original list:\",lst)\n",
    "print(\"Square of list elements:\")\n",
    "print(list(map(square, lst)))"
   ]
  },
  {
   "cell_type": "code",
   "execution_count": null,
   "id": "7360d39f",
   "metadata": {},
   "outputs": [],
   "source": []
  }
 ],
 "metadata": {
  "kernelspec": {
   "display_name": "Python 3 (ipykernel)",
   "language": "python",
   "name": "python3"
  },
  "language_info": {
   "codemirror_mode": {
    "name": "ipython",
    "version": 3
   },
   "file_extension": ".py",
   "mimetype": "text/x-python",
   "name": "python",
   "nbconvert_exporter": "python",
   "pygments_lexer": "ipython3",
   "version": "3.10.9"
  }
 },
 "nbformat": 4,
 "nbformat_minor": 5
}
