{
 "cells": [
  {
   "cell_type": "code",
   "execution_count": 3,
   "id": "98284259",
   "metadata": {},
   "outputs": [
    {
     "name": "stdout",
     "output_type": "stream",
     "text": [
      "{1: 'a', 2: 'b', 3: 'c'}\n",
      "dict_keys([1, 2, 3])\n",
      "dict_values(['a', 'b', 'c'])\n"
     ]
    }
   ],
   "source": [
    "di={1:'a',2:'b',3:'c'}\n",
    "print(di)\n",
    "print(di.keys())\n",
    "print(di.values())"
   ]
  },
  {
   "cell_type": "code",
   "execution_count": 4,
   "id": "00986c98",
   "metadata": {},
   "outputs": [
    {
     "name": "stdout",
     "output_type": "stream",
     "text": [
      "{'name': 'abc', 'roll no.': 12, 'subjects': ['abc', 'def', 'ghi'], 'marks': [10, 11, 12]}\n",
      "dict_keys(['name', 'roll no.', 'subjects', 'marks'])\n",
      "dict_values(['abc', 12, ['abc', 'def', 'ghi'], [10, 11, 12]])\n"
     ]
    }
   ],
   "source": [
    "stud1={'name':'abc', 'roll no.':12, 'subjects':['abc', 'def', 'ghi'], 'marks':[10,11,12]}\n",
    "print(stud1)\n",
    "print(stud1.keys())\n",
    "print(stud1.values())"
   ]
  },
  {
   "cell_type": "code",
   "execution_count": 7,
   "id": "30eb4e02",
   "metadata": {},
   "outputs": [
    {
     "name": "stdout",
     "output_type": "stream",
     "text": [
      "[10, 11, 12]\n"
     ]
    }
   ],
   "source": [
    "print(stud1['marks'])"
   ]
  },
  {
   "cell_type": "code",
   "execution_count": 9,
   "id": "67e86d62",
   "metadata": {},
   "outputs": [
    {
     "ename": "AttributeError",
     "evalue": "'dict' object has no attribute 'append'",
     "output_type": "error",
     "traceback": [
      "\u001b[1;31m---------------------------------------------------------------------------\u001b[0m",
      "\u001b[1;31mAttributeError\u001b[0m                            Traceback (most recent call last)",
      "Cell \u001b[1;32mIn[9], line 1\u001b[0m\n\u001b[1;32m----> 1\u001b[0m \u001b[38;5;28mprint\u001b[39m(\u001b[43mstud1\u001b[49m\u001b[38;5;241;43m.\u001b[39;49m\u001b[43mappend\u001b[49m[marks],\u001b[38;5;241m13\u001b[39m)\n",
      "\u001b[1;31mAttributeError\u001b[0m: 'dict' object has no attribute 'append'"
     ]
    }
   ],
   "source": []
  },
  {
   "cell_type": "code",
   "execution_count": null,
   "id": "34894a1d",
   "metadata": {},
   "outputs": [],
   "source": []
  }
 ],
 "metadata": {
  "kernelspec": {
   "display_name": "Python 3 (ipykernel)",
   "language": "python",
   "name": "python3"
  },
  "language_info": {
   "codemirror_mode": {
    "name": "ipython",
    "version": 3
   },
   "file_extension": ".py",
   "mimetype": "text/x-python",
   "name": "python",
   "nbconvert_exporter": "python",
   "pygments_lexer": "ipython3",
   "version": "3.10.9"
  }
 },
 "nbformat": 4,
 "nbformat_minor": 5
}
