{
 "cells": [
  {
   "cell_type": "code",
   "execution_count": 10,
   "id": "1668bc21",
   "metadata": {},
   "outputs": [
    {
     "name": "stdout",
     "output_type": "stream",
     "text": [
      "Name:  Tom\n",
      "Age:  3\n",
      "Coat Color:  Brown\n",
      "\n",
      "Max is a Jack Russell Terrier dog. He is 5 years old and his color is White with Tan patches.\n",
      "Height:  27cm\n",
      "Origin:  United Kingdom\n",
      "\n",
      "Daisy is a Bulldog. She is 6 years old and her color is Fawn.\n",
      "Weight:  21 Kg\n",
      "Origin:  England\n"
     ]
    }
   ],
   "source": [
    "class Dog:\n",
    "    def __init__(self, name, age, coat_color):\n",
    "        self.name = name\n",
    "        self.age = age\n",
    "        self.coat_color = coat_color\n",
    "        \n",
    "    def description(self):\n",
    "        print(\"Name: \", self.name)\n",
    "        print(\"Age: \", self.age)\n",
    "        \n",
    "    def get_info(self):\n",
    "        print(\"Coat Color: \", self.coat_color)\n",
    "        \n",
    "\n",
    "class JackRussellTerrier(Dog):\n",
    "    def __init__(self, name, age, coat_color):\n",
    "        super().__init__(name, age, coat_color)\n",
    "        \n",
    "    def details(self):\n",
    "        print(f\"{self.name} is a Jack Russell Terrier dog. He is {self.age} years old and his color is {self.coat_color}.\")\n",
    "        \n",
    "    def info(self, height, origin):\n",
    "        self.height = height\n",
    "        self.origin = origin\n",
    "        print(\"Height: \", self.height)\n",
    "        print(\"Origin: \", self.origin)\n",
    "        \n",
    "        \n",
    "class Bulldog(Dog):\n",
    "    def __init__(self, name, age, coat_color):\n",
    "        super().__init__(name, age, coat_color)\n",
    "        \n",
    "    def details(self):\n",
    "        print(f\"{self.name} is a Bulldog. She is {self.age} years old and her color is {self.coat_color}.\")\n",
    "        \n",
    "    def info(self, weight, origin):\n",
    "        self.weight = weight\n",
    "        self.origin = origin\n",
    "        print(\"Weight: \", self.weight)\n",
    "        print(\"Origin: \", self.origin)\n",
    "        \n",
    "\n",
    "dog1 = Dog(\"Tom\", 3, \"Brown\")\n",
    "dog1.description()\n",
    "dog1.get_info()\n",
    "print()\n",
    "\n",
    "dog2 = JackRussellTerrier(\"Max\", 5, \"White with Tan patches\")\n",
    "dog2.details()\n",
    "dog2.info(\"27cm\", \"United Kingdom\")\n",
    "print()\n",
    "\n",
    "dog3 = Bulldog(\"Daisy\", 6, \"Fawn\")\n",
    "dog3.details()\n",
    "dog3.info(\"21 Kg\", \"England\")"
   ]
  },
  {
   "cell_type": "code",
   "execution_count": null,
   "id": "a71343de",
   "metadata": {},
   "outputs": [],
   "source": []
  }
 ],
 "metadata": {
  "kernelspec": {
   "display_name": "Python 3 (ipykernel)",
   "language": "python",
   "name": "python3"
  },
  "language_info": {
   "codemirror_mode": {
    "name": "ipython",
    "version": 3
   },
   "file_extension": ".py",
   "mimetype": "text/x-python",
   "name": "python",
   "nbconvert_exporter": "python",
   "pygments_lexer": "ipython3",
   "version": "3.10.9"
  }
 },
 "nbformat": 4,
 "nbformat_minor": 5
}
