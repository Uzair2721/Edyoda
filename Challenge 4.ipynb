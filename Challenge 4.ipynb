{
 "cells": [
  {
   "cell_type": "code",
   "execution_count": 4,
   "id": "fd05f2b0",
   "metadata": {},
   "outputs": [
    {
     "name": "stdout",
     "output_type": "stream",
     "text": [
      "Bruce\n",
      "5000\n",
      "5\n"
     ]
    }
   ],
   "source": [
    "class Account:\n",
    "    def __init__(self, title, balance):\n",
    "        self.title = title\n",
    "        self.balance = balance\n",
    "        \n",
    "class SavingsAccount(Account):\n",
    "    def __init__(self, title, balance, interestRate):\n",
    "        super().__init__(title, balance)\n",
    "        self.interestRate = interestRate\n",
    "        \n",
    "acc = Account(\"Bruce\",5000)\n",
    "sav_acc = SavingsAccount(\"Bruce\",5000,5)\n",
    "print(acc.title)\n",
    "print(sav_acc.balance)\n",
    "print(sav_acc.interestRate)"
   ]
  },
  {
   "cell_type": "code",
   "execution_count": null,
   "id": "de3a5821",
   "metadata": {},
   "outputs": [],
   "source": []
  }
 ],
 "metadata": {
  "kernelspec": {
   "display_name": "Python 3 (ipykernel)",
   "language": "python",
   "name": "python3"
  },
  "language_info": {
   "codemirror_mode": {
    "name": "ipython",
    "version": 3
   },
   "file_extension": ".py",
   "mimetype": "text/x-python",
   "name": "python",
   "nbconvert_exporter": "python",
   "pygments_lexer": "ipython3",
   "version": "3.10.9"
  }
 },
 "nbformat": 4,
 "nbformat_minor": 5
}
