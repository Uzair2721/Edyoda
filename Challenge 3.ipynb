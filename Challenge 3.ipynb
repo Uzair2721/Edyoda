{
 "cells": [
  {
   "cell_type": "code",
   "execution_count": 3,
   "id": "fdc7f8a3",
   "metadata": {},
   "outputs": [
    {
     "name": "stdout",
     "output_type": "stream",
     "text": [
      "Uzair\n",
      "98765\n"
     ]
    }
   ],
   "source": [
    "class Student:\n",
    "    def setName(self, name):\n",
    "        self._name = name\n",
    "    def getName(self):\n",
    "        return self._name\n",
    "    def setRollNumber(self, roll_number):\n",
    "        self._roll_number = roll_number\n",
    "    def getRollNumber(self):\n",
    "        return self._roll_number\n",
    "    \n",
    "res = Student()\n",
    "res.setName(\"Uzair\")\n",
    "res.setRollNumber(\"98765\")\n",
    "name = res.getName()\n",
    "roll_number = res.getRollNumber()\n",
    "print(name)\n",
    "print(roll_number)"
   ]
  },
  {
   "cell_type": "code",
   "execution_count": null,
   "id": "a96108e0",
   "metadata": {},
   "outputs": [],
   "source": []
  }
 ],
 "metadata": {
  "kernelspec": {
   "display_name": "Python 3 (ipykernel)",
   "language": "python",
   "name": "python3"
  },
  "language_info": {
   "codemirror_mode": {
    "name": "ipython",
    "version": 3
   },
   "file_extension": ".py",
   "mimetype": "text/x-python",
   "name": "python",
   "nbconvert_exporter": "python",
   "pygments_lexer": "ipython3",
   "version": "3.10.9"
  }
 },
 "nbformat": 4,
 "nbformat_minor": 5
}
