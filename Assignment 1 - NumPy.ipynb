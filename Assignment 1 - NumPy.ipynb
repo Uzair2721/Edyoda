{
 "cells": [
  {
   "cell_type": "code",
   "execution_count": 1,
   "id": "2c9464e5",
   "metadata": {},
   "outputs": [],
   "source": [
    "import numpy as np"
   ]
  },
  {
   "cell_type": "code",
   "execution_count": 3,
   "id": "82d6dcd9",
   "metadata": {},
   "outputs": [
    {
     "name": "stdout",
     "output_type": "stream",
     "text": [
      "[0. 0. 0. 0. 1. 0. 0. 0. 0. 0.]\n"
     ]
    }
   ],
   "source": [
    "# 1. Create a null vector of size 10 but the fifth value which is 1.\n",
    "\n",
    "null_vector = np.zeros(10)\n",
    "null_vector[4] = 1\n",
    "print(null_vector)"
   ]
  },
  {
   "cell_type": "code",
   "execution_count": 7,
   "id": "05547856",
   "metadata": {},
   "outputs": [
    {
     "name": "stdout",
     "output_type": "stream",
     "text": [
      "[10 11 12 13 14 15 16 17 18 19 20 21 22 23 24 25 26 27 28 29 30 31 32 33\n",
      " 34 35 36 37 38 39 40 41 42 43 44 45 46 47 48 49]\n"
     ]
    }
   ],
   "source": [
    "# 2. Create a vector with values ranging from 10 to 49.\n",
    "\n",
    "vector = np.arange(10,50)\n",
    "print(vector)"
   ]
  },
  {
   "cell_type": "code",
   "execution_count": 6,
   "id": "e332b0f8",
   "metadata": {},
   "outputs": [
    {
     "name": "stdout",
     "output_type": "stream",
     "text": [
      "[[0 1 2]\n",
      " [3 4 5]\n",
      " [6 7 8]]\n"
     ]
    }
   ],
   "source": [
    "# 3. Create a 3x3 matrix with values ranging from 0 to 8.\n",
    "\n",
    "matrix = np.arange(9).reshape(3,3)\n",
    "print(matrix)"
   ]
  },
  {
   "cell_type": "code",
   "execution_count": 8,
   "id": "fcf12ad8",
   "metadata": {},
   "outputs": [
    {
     "name": "stdout",
     "output_type": "stream",
     "text": [
      "(array([0, 1, 4], dtype=int64),)\n"
     ]
    }
   ],
   "source": [
    "# 4. Find indices of non-zero elements from [1,2,0,0,4,0].\n",
    "\n",
    "non_zero_indices = np.nonzero([1,2,0,0,4,0])\n",
    "print(non_zero_indices)"
   ]
  },
  {
   "cell_type": "code",
   "execution_count": 21,
   "id": "aa35007d",
   "metadata": {},
   "outputs": [
    {
     "name": "stdout",
     "output_type": "stream",
     "text": [
      "Random Array: [[0.46292546 0.62665886 0.52620262 0.46699641 0.42847897 0.95278748\n",
      "  0.6234238  0.24239866 0.94028655 0.52864488]\n",
      " [0.90434914 0.69467555 0.86719649 0.0613495  0.37160008 0.73235961\n",
      "  0.7057482  0.18107846 0.78288211 0.11805466]\n",
      " [0.67256266 0.3808763  0.39178045 0.9656709  0.19261841 0.26924788\n",
      "  0.66666843 0.60466962 0.93449194 0.37711514]\n",
      " [0.31826425 0.41081726 0.6082701  0.18462645 0.94197029 0.64358104\n",
      "  0.85784273 0.80627222 0.84806492 0.71205848]\n",
      " [0.24130334 0.31110163 0.85596493 0.14480314 0.02973908 0.76688779\n",
      "  0.25446158 0.46717342 0.49689164 0.87910669]\n",
      " [0.33974223 0.26658409 0.52386155 0.80546263 0.79756029 0.25785717\n",
      "  0.12007738 0.94135343 0.3845797  0.57228913]\n",
      " [0.95465838 0.96736002 0.00952126 0.21144925 0.84299339 0.37949001\n",
      "  0.36043881 0.2355963  0.50969195 0.67519685]\n",
      " [0.78314389 0.33261267 0.08018455 0.31524457 0.32121944 0.48164355\n",
      "  0.24956814 0.33759756 0.81739409 0.48284706]\n",
      " [0.92208339 0.12779014 0.11373248 0.29376054 0.72431501 0.55488849\n",
      "  0.32674743 0.77441223 0.81797772 0.81531847]\n",
      " [0.98144361 0.51432305 0.16633034 0.8707842  0.40049987 0.120934\n",
      "  0.7667887  0.98109782 0.40885258 0.52707358]]\n",
      "Minimum Value: 0.00952125699044959\n",
      "Maximum Value: 0.981443611820728\n"
     ]
    }
   ],
   "source": [
    "# 5. Create a 10x10 array with random values and find the minimum and maximum values.\n",
    "\n",
    "random_array = np.random.rand(10,10)\n",
    "min_value = random_array.min()\n",
    "max_value = random_array.max()\n",
    "print(\"Random Array:\",random_array)\n",
    "print(\"Minimum Value:\",min_value)\n",
    "print(\"Maximum Value:\",max_value)"
   ]
  },
  {
   "cell_type": "code",
   "execution_count": 24,
   "id": "a6efea4f",
   "metadata": {},
   "outputs": [
    {
     "name": "stdout",
     "output_type": "stream",
     "text": [
      "Random Vector: [0.00400154 0.53490137 0.48793981 0.25662875 0.33512422 0.5511363\n",
      " 0.45307754 0.35376825 0.97991971 0.49426365 0.58939549 0.70923126\n",
      " 0.6821196  0.36785524 0.47909559 0.42531045 0.34681808 0.67794216\n",
      " 0.34345567 0.22874671 0.73640631 0.13552694 0.41209149 0.80679903\n",
      " 0.619372   0.5218545  0.01374416 0.26211882 0.79481457 0.33572198]\n",
      "Mean Value: 0.46463937240634096\n"
     ]
    }
   ],
   "source": [
    "# 6. Create a random vector of size 30 and find the mean value.\n",
    "\n",
    "random_vector = np.random.rand(30)\n",
    "mean_value = random_vector.mean()\n",
    "print(\"Random Vector:\",random_vector)\n",
    "print(\"Mean Value:\",mean_value)"
   ]
  },
  {
   "cell_type": "code",
   "execution_count": null,
   "id": "b8fa9488",
   "metadata": {},
   "outputs": [],
   "source": []
  }
 ],
 "metadata": {
  "kernelspec": {
   "display_name": "Python 3 (ipykernel)",
   "language": "python",
   "name": "python3"
  },
  "language_info": {
   "codemirror_mode": {
    "name": "ipython",
    "version": 3
   },
   "file_extension": ".py",
   "mimetype": "text/x-python",
   "name": "python",
   "nbconvert_exporter": "python",
   "pygments_lexer": "ipython3",
   "version": "3.10.9"
  }
 },
 "nbformat": 4,
 "nbformat_minor": 5
}
