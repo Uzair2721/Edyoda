{
 "cells": [
  {
   "cell_type": "code",
   "execution_count": 11,
   "id": "8e946787",
   "metadata": {},
   "outputs": [
    {
     "name": "stdout",
     "output_type": "stream",
     "text": [
      "Test String: The Quick Brow Fox\n",
      "Number of Upper Case characters: 4\n",
      "Number of Lower Case characters: 11\n"
     ]
    }
   ],
   "source": [
    "def upper_lower(s):\n",
    "    dict1 = {\"Upper_Case\": 0, \"Lower_Case\":0}\n",
    "    for i in s:\n",
    "        if i.isupper():\n",
    "            dict1[\"Upper_Case\"] += 1\n",
    "        elif i.islower():\n",
    "            dict1[\"Lower_Case\"] += 1\n",
    "        else:\n",
    "            pass\n",
    "        \n",
    "    print(\"Test String:\",s)\n",
    "    print(\"Number of Upper Case characters:\",dict1[\"Upper_Case\"])\n",
    "    print(\"Number of Lower Case characters:\",dict1[\"Lower_Case\"])\n",
    "\n",
    "upper_lower(\"The Quick Brow Fox\")"
   ]
  },
  {
   "cell_type": "code",
   "execution_count": null,
   "id": "b4764dd9",
   "metadata": {},
   "outputs": [],
   "source": []
  }
 ],
 "metadata": {
  "kernelspec": {
   "display_name": "Python 3 (ipykernel)",
   "language": "python",
   "name": "python3"
  },
  "language_info": {
   "codemirror_mode": {
    "name": "ipython",
    "version": 3
   },
   "file_extension": ".py",
   "mimetype": "text/x-python",
   "name": "python",
   "nbconvert_exporter": "python",
   "pygments_lexer": "ipython3",
   "version": "3.10.9"
  }
 },
 "nbformat": 4,
 "nbformat_minor": 5
}
