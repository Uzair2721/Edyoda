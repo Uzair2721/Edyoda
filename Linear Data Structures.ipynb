{
 "cells": [
  {
   "cell_type": "code",
   "execution_count": 22,
   "id": "7f4fc69a",
   "metadata": {},
   "outputs": [
    {
     "name": "stdout",
     "output_type": "stream",
     "text": [
      "Pairs with a sum of 10 :\n",
      "(2, 8)\n",
      "(4, 6)\n",
      "(9, 1)\n"
     ]
    }
   ],
   "source": [
    "# Q1. Write a program to find all pairs of an integer array whose sum is equal to a given number?\n",
    "\n",
    "def find_pairs(array, target_sum):\n",
    "    pairs = []\n",
    "    for i in range(len(array)):\n",
    "        for j in range(i+1, len(array)):\n",
    "            if array[i] + array[j] == target_sum:\n",
    "                pairs.append((array[i], array[j]))\n",
    "    return pairs\n",
    "\n",
    "\n",
    "arr = [2, 4, 5, 3, 6, 8, 9, 1]\n",
    "target = 10\n",
    "result = find_pairs(arr, target)\n",
    "\n",
    "print(\"Pairs with a sum of\", target, \":\")\n",
    "for pair in result:\n",
    "    print(pair)"
   ]
  },
  {
   "cell_type": "code",
   "execution_count": 23,
   "id": "bfd58af0",
   "metadata": {},
   "outputs": [
    {
     "name": "stdout",
     "output_type": "stream",
     "text": [
      "Original array: [1, 2, 3, 4, 5]\n",
      "Reversed array: [5, 4, 3, 2, 1]\n"
     ]
    }
   ],
   "source": [
    "# Q2. Write a program to reverse an array in place?\n",
    "#     In place means you cannot create a new array. You have to update the original array.\n",
    "\n",
    "def reverse_array(array):\n",
    "    left = 0\n",
    "    right = len(array) - 1\n",
    "\n",
    "    while left < right:\n",
    "        array[left], array[right] = array[right], array[left]\n",
    "\n",
    "        left += 1\n",
    "        right -= 1\n",
    "\n",
    "\n",
    "arr = [1, 2, 3, 4, 5]\n",
    "print(\"Original array:\", arr)\n",
    "\n",
    "reverse_array(arr)\n",
    "print(\"Reversed array:\", arr)"
   ]
  },
  {
   "cell_type": "code",
   "execution_count": 24,
   "id": "8bd4161e",
   "metadata": {},
   "outputs": [
    {
     "name": "stdout",
     "output_type": "stream",
     "text": [
      "The strings are rotations of each other.\n"
     ]
    }
   ],
   "source": [
    "# Q3. Write a program to check if two strings are a rotation of each other? \n",
    "\n",
    "def rotation(str1, str2):\n",
    "    if len(str1) != len(str2):\n",
    "        return False\n",
    "\n",
    "    new_string = str1 + str1\n",
    "    if str2 in new_string:\n",
    "        return True\n",
    "    else:\n",
    "        return False\n",
    "\n",
    "\n",
    "string1 = \"hello\"\n",
    "string2 = \"lohel\"\n",
    "result = rotation(string1, string2)\n",
    "\n",
    "if result:\n",
    "    print(\"The strings are rotations of each other.\")\n",
    "else:\n",
    "    print(\"The strings are not rotations of each other.\")"
   ]
  },
  {
   "cell_type": "code",
   "execution_count": 25,
   "id": "8a0d7336",
   "metadata": {},
   "outputs": [
    {
     "name": "stdout",
     "output_type": "stream",
     "text": [
      "The first non-repeated character is: c\n"
     ]
    }
   ],
   "source": [
    "# Q4. Write a program to print the first non-repeated character from a string?\n",
    "\n",
    "def non_repeated_char(string):\n",
    "    char_count = {}\n",
    "\n",
    "    for char in string:\n",
    "        if char in char_count:\n",
    "            char_count[char] += 1\n",
    "        else:\n",
    "            char_count[char] = 1\n",
    "    \n",
    "    for char in string:\n",
    "        if char_count[char] == 1:\n",
    "            return char\n",
    "    \n",
    "    return None\n",
    "\n",
    "\n",
    "input_string = \"abracadabra\"\n",
    "result = non_repeated_char(input_string)\n",
    "\n",
    "if result:\n",
    "    print(\"The first non-repeated character is:\", result)\n",
    "else:\n",
    "    print(\"There is no non-repeated character in the string.\")"
   ]
  },
  {
   "cell_type": "code",
   "execution_count": 26,
   "id": "471a15cb",
   "metadata": {},
   "outputs": [
    {
     "name": "stdout",
     "output_type": "stream",
     "text": [
      "Move disk 1 from A to C\n",
      "Move disk 2 from A to B\n",
      "Move disk 1 from C to B\n",
      "Move disk 3 from A to C\n",
      "Move disk 1 from B to A\n",
      "Move disk 2 from B to C\n",
      "Move disk 1 from A to C\n"
     ]
    }
   ],
   "source": [
    "# Q5. Read about the Tower of Hanoi algorithm. Write a program to implement it.\n",
    "\n",
    "class Stack:\n",
    "    def __init__(self):\n",
    "        self.items = []\n",
    "\n",
    "    def is_empty(self):\n",
    "        return len(self.items) == 0\n",
    "\n",
    "    def push(self, item):\n",
    "        self.items.append(item)\n",
    "\n",
    "    def pop(self):\n",
    "        if not self.is_empty():\n",
    "            return self.items.pop()\n",
    "\n",
    "    def peek(self):\n",
    "        if not self.is_empty():\n",
    "            return self.items[-1]\n",
    "\n",
    "    def size(self):\n",
    "        return len(self.items)\n",
    "\n",
    "\n",
    "def tower_of_hanoi(num_disks, source, destination, auxiliary):\n",
    "    source_stack = Stack()\n",
    "    destination_stack = Stack()\n",
    "    auxiliary_stack = Stack()\n",
    "\n",
    "    # Fill the source stack with disks in descending order\n",
    "    for disk in range(num_disks, 0, -1):\n",
    "        source_stack.push(disk)\n",
    "\n",
    "    move_disks(num_disks, source_stack, destination_stack, auxiliary_stack, source, destination, auxiliary)\n",
    "\n",
    "\n",
    "def move_disks(n, source, destination, auxiliary, source_peg, destination_peg, auxiliary_peg):\n",
    "    if n > 0:\n",
    "        # Move n-1 disks from source to auxiliary peg using the destination peg as the temporary auxiliary\n",
    "        move_disks(n - 1, source, auxiliary, destination, source_peg, auxiliary_peg, destination_peg)\n",
    "\n",
    "        # Move the nth disk from source to destination peg\n",
    "        disk = source.pop()\n",
    "        destination.push(disk)\n",
    "        print(\"Move disk\", disk, \"from\", source_peg, \"to\", destination_peg)\n",
    "\n",
    "        # Move the n-1 disks from auxiliary to destination peg using the source peg as the temporary auxiliary\n",
    "        move_disks(n - 1, auxiliary, destination, source, auxiliary_peg, destination_peg, source_peg)\n",
    "\n",
    "\n",
    "num_disks = 3\n",
    "tower_of_hanoi(num_disks, 'A', 'C', 'B')"
   ]
  },
  {
   "cell_type": "code",
   "execution_count": 27,
   "id": "375394e0",
   "metadata": {},
   "outputs": [
    {
     "name": "stdout",
     "output_type": "stream",
     "text": [
      "Enter the postfix expression: 234*+\n",
      "Prefix expression: (+2(*34))\n"
     ]
    }
   ],
   "source": [
    "# Q6. Read about infix, prefix, and postfix expressions. Write a program to convert postfix to prefix expression.\n",
    "\n",
    "def is_operator(char):\n",
    "    operators = set(['+', '-', '*', '/'])\n",
    "    return char in operators\n",
    "\n",
    "def postfix_to_prefix(expression):\n",
    "    stack = []\n",
    "\n",
    "    for char in expression:\n",
    "        if not is_operator(char):\n",
    "            stack.append(char)\n",
    "        else:\n",
    "            operand2 = stack.pop()\n",
    "            operand1 = stack.pop()\n",
    "            prefix = '(' + char + operand1 + operand2 + ')'\n",
    "            stack.append(prefix)\n",
    "\n",
    "    return stack.pop()\n",
    "\n",
    "postfix_expr = input(\"Enter the postfix expression: \")\n",
    "prefix_expr = postfix_to_prefix(postfix_expr)\n",
    "\n",
    "print(\"Prefix expression:\", prefix_expr)"
   ]
  },
  {
   "cell_type": "code",
   "execution_count": 28,
   "id": "7286ce1b",
   "metadata": {},
   "outputs": [
    {
     "name": "stdout",
     "output_type": "stream",
     "text": [
      "Enter the prefix expression: +*156\n",
      "Infix expression: ((1*5)+6)\n"
     ]
    }
   ],
   "source": [
    "# Q7. Write a program to convert prefix expression to infix expression.\n",
    "\n",
    "def is_operator(char):\n",
    "    operators = ['+', '-', '*', '/']\n",
    "    return char in operators\n",
    "\n",
    "def prefix_to_infix(expression):\n",
    "    stack = []\n",
    "    for char in reversed(expression):\n",
    "        if is_operator(char):\n",
    "            operand1 = stack.pop()\n",
    "            operand2 = stack.pop()\n",
    "            infix_expr = '(' + operand1 + char + operand2 + ')'\n",
    "            stack.append(infix_expr)\n",
    "        else:\n",
    "            stack.append(char)\n",
    "    \n",
    "    return stack.pop()\n",
    "\n",
    "prefix_expr = input(\"Enter the prefix expression: \")\n",
    "infix_expr = prefix_to_infix(prefix_expr)\n",
    "\n",
    "print(\"Infix expression:\", infix_expr)"
   ]
  },
  {
   "cell_type": "code",
   "execution_count": 29,
   "id": "c9eef23a",
   "metadata": {},
   "outputs": [
    {
     "name": "stdout",
     "output_type": "stream",
     "text": [
      "Enter the code snippet: [(4+3-1*{7*2+5})]\n",
      "All brackets are closed.\n"
     ]
    }
   ],
   "source": [
    "# Q8. Write a program to check if all the brackets are closed in a given code snippet.\n",
    "\n",
    "def balanced(code):\n",
    "    stack = []\n",
    "    opening_brackets = ['(', '[', '{']\n",
    "    closing_brackets = [')', ']', '}']\n",
    "    bracket_map = {')': '(', ']': '[', '}': '{'}\n",
    "\n",
    "    for char in code:\n",
    "        if char in opening_brackets:\n",
    "            stack.append(char)\n",
    "        elif char in closing_brackets:\n",
    "            if not stack or bracket_map[char] != stack.pop():\n",
    "                return False\n",
    "\n",
    "    return len(stack) == 0\n",
    "\n",
    "code_snippet = input(\"Enter the code snippet: \")\n",
    "if balanced(code_snippet):\n",
    "    print(\"All brackets are closed.\")\n",
    "else:\n",
    "    print(\"Brackets are not closed properly.\")"
   ]
  },
  {
   "cell_type": "code",
   "execution_count": 30,
   "id": "ebaa54e7",
   "metadata": {},
   "outputs": [
    {
     "name": "stdout",
     "output_type": "stream",
     "text": [
      "Original stack: [1, 2, 3, 4, 5]\n",
      "Reversed stack: [5, 4, 3, 2, 1]\n"
     ]
    }
   ],
   "source": [
    "# Q9. Write a program to reverse a stack.\n",
    "\n",
    "class Stack:\n",
    "    def __init__(self):\n",
    "        self.items = []\n",
    "\n",
    "    def is_empty(self):\n",
    "        return len(self.items) == 0\n",
    "\n",
    "    def push(self, item):\n",
    "        self.items.append(item)\n",
    "\n",
    "    def pop(self):\n",
    "        if self.is_empty():\n",
    "            print(\"Stack is empty\")\n",
    "        return self.items.pop()\n",
    "\n",
    "    def peek(self):\n",
    "        if self.is_empty():\n",
    "            print(\"Stack is empty\")\n",
    "        return self.items[-1]\n",
    "\n",
    "    def size(self):\n",
    "        return len(self.items)\n",
    "\n",
    "\n",
    "def reverse_stack(stack):\n",
    "    if not stack.is_empty():\n",
    "        temp = stack.pop()\n",
    "        reverse_stack(stack)\n",
    "        insert_at_bottom(stack, temp)\n",
    "\n",
    "\n",
    "def insert_at_bottom(stack, item):\n",
    "    if stack.is_empty():\n",
    "        stack.push(item)\n",
    "    else:\n",
    "        temp = stack.pop()\n",
    "        insert_at_bottom(stack, item)\n",
    "        stack.push(temp)\n",
    "\n",
    "        \n",
    "stack = Stack()\n",
    "stack.push(1)\n",
    "stack.push(2)\n",
    "stack.push(3)\n",
    "stack.push(4)\n",
    "stack.push(5)\n",
    "\n",
    "print(\"Original stack:\", stack.items)\n",
    "reverse_stack(stack)\n",
    "print(\"Reversed stack:\", stack.items)"
   ]
  },
  {
   "cell_type": "code",
   "execution_count": 31,
   "id": "beb53da3",
   "metadata": {},
   "outputs": [
    {
     "name": "stdout",
     "output_type": "stream",
     "text": [
      "Given Stack:  [10, 7, 3, 5, 8]\n",
      "Smallest number: 3\n"
     ]
    }
   ],
   "source": [
    "# Q10. Write a program to find the smallest number using a stack.\n",
    "\n",
    "class Stack:\n",
    "    def __init__(self):\n",
    "        self.items = []\n",
    "\n",
    "    def is_empty(self):\n",
    "        return len(self.items) == 0\n",
    "\n",
    "    def push(self, item):\n",
    "        self.items.append(item)\n",
    "\n",
    "    def pop(self):\n",
    "        if self.is_empty():\n",
    "            print(\"Stack is empty\")\n",
    "        return self.items.pop()\n",
    "\n",
    "    def peek(self):\n",
    "        if self.is_empty():\n",
    "            print(\"Stack is empty\")\n",
    "        return self.items[-1]\n",
    "\n",
    "    def size(self):\n",
    "        return len(self.items)\n",
    "\n",
    "\n",
    "def find_smallest(stack):\n",
    "    if stack.is_empty():\n",
    "        print(\"Stack is empty\")\n",
    "\n",
    "    smallest = stack.pop()\n",
    "\n",
    "    while not stack.is_empty():\n",
    "        current = stack.pop()\n",
    "        smallest = min(smallest, current)\n",
    "\n",
    "    return smallest\n",
    "\n",
    "\n",
    "stack = Stack()\n",
    "stack.push(10)\n",
    "stack.push(7)\n",
    "stack.push(3)\n",
    "stack.push(5)\n",
    "stack.push(8)\n",
    "\n",
    "print(\"Given Stack: \", stack.items)\n",
    "smallest_number = find_smallest(stack)\n",
    "print(\"Smallest number:\", smallest_number)"
   ]
  },
  {
   "cell_type": "code",
   "execution_count": null,
   "id": "394824e5",
   "metadata": {},
   "outputs": [],
   "source": []
  }
 ],
 "metadata": {
  "kernelspec": {
   "display_name": "Python 3 (ipykernel)",
   "language": "python",
   "name": "python3"
  },
  "language_info": {
   "codemirror_mode": {
    "name": "ipython",
    "version": 3
   },
   "file_extension": ".py",
   "mimetype": "text/x-python",
   "name": "python",
   "nbconvert_exporter": "python",
   "pygments_lexer": "ipython3",
   "version": "3.10.9"
  }
 },
 "nbformat": 4,
 "nbformat_minor": 5
}
